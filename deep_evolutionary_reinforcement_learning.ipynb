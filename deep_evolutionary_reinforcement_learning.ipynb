{
 "cells": [
  {
   "cell_type": "markdown",
   "metadata": {},
   "source": [
    "<h3>Deep Evolutionary Reinforcement Learning/Aprendizado por Reforço Evolutivo Profundo</h3>\n",
    "<p>O Aprendizado por Reforço Evolutivo Profundo aplica redes neurais artificiais profundas no algoritmo evolutivo para aumentar a abstração de padrões e diminuir os vieses causados pelo algoritmo evolutivo original de forma a torná-lo melhor adaptado em situações que possam conter estados aleatórios sem grandes perdas de performance.</p>"
   ]
  },
  {
   "cell_type": "markdown",
   "metadata": {},
   "source": [
    "<h4>Importação das Classes e Declaração das Variáveis</h4>"
   ]
  },
  {
   "cell_type": "code",
   "execution_count": 91,
   "metadata": {},
   "outputs": [],
   "source": [
    "from Neuraline.ArtificialIntelligence.MachineLearning.ReinforcementLearning.deep_evolutionary_reinforcement_learning import DeepEvolutionaryReinforcementLearning\n",
    "deep_evolutionary_reinforcement_learning = DeepEvolutionaryReinforcementLearning()\n",
    "\n",
    "numeros_pares = [[0, 2], [2, 0], [4, 6], [6, 4], [8, 10], [10, 8], [12, 14], [14, 12], [16, 18], [18, 16]]\n",
    "numeros_impares = [[1, 3], [3, 1], [5, 7], [7, 5], [9, 11], [11, 9], [13, 15], [15, 13], [17, 19], [19, 17]]"
   ]
  },
  {
   "cell_type": "markdown",
   "metadata": {},
   "source": [
    "<h4>Construção da Arquitetura do Modelo Neural</h4>"
   ]
  },
  {
   "cell_type": "code",
   "execution_count": 92,
   "metadata": {},
   "outputs": [
    {
     "name": "stdout",
     "output_type": "stream",
     "text": [
      "arquitetura neural definida com sucesso\n"
     ]
    }
   ],
   "source": [
    "result1 = deep_evolutionary_reinforcement_learning.addHiddenLayer(hidden_nodes=3, activation_function='nonlinear')\n",
    "result2 = deep_evolutionary_reinforcement_learning.addHiddenLayer(hidden_nodes=5, activation_function='nonlinear')\n",
    "result3 = deep_evolutionary_reinforcement_learning.addHiddenLayer(hidden_nodes=3, activation_function='nonlinear')\n",
    "if result1 and result2 and result3: print('arquitetura neural definida com sucesso')\n",
    "else: print('erro na definição da arquitetura neural')"
   ]
  },
  {
   "cell_type": "markdown",
   "metadata": {},
   "source": [
    "<h4>Treinamento e Predição com os Números Pares</h4>"
   ]
  },
  {
   "cell_type": "code",
   "execution_count": 100,
   "metadata": {},
   "outputs": [
    {
     "name": "stdout",
     "output_type": "stream",
     "text": [
      "[[0, 2], [2, 2]]\n"
     ]
    }
   ],
   "source": [
    "deep_evolutionary_reinforcement_learning.fit(inputs=numeros_pares)\n",
    "result = deep_evolutionary_reinforcement_learning.predict(predictions=2)\n",
    "print(result)"
   ]
  },
  {
   "cell_type": "markdown",
   "metadata": {},
   "source": [
    "<h4>Inserção de Novos Dados ao Treinamento com os Números Ímpares</h4>"
   ]
  },
  {
   "cell_type": "code",
   "execution_count": 102,
   "metadata": {},
   "outputs": [
    {
     "name": "stdout",
     "output_type": "stream",
     "text": [
      "[[2, 4], [3, 3]]\n"
     ]
    }
   ],
   "source": [
    "deep_evolutionary_reinforcement_learning.insertFit(inputs=numeros_impares)\n",
    "result = deep_evolutionary_reinforcement_learning.predict(predictions=2)\n",
    "print(result)"
   ]
  },
  {
   "cell_type": "markdown",
   "metadata": {},
   "source": [
    "<h4>Reforço da Aprendizagem para Dados Corretos e Incorretos</h4>"
   ]
  },
  {
   "cell_type": "code",
   "execution_count": 105,
   "metadata": {},
   "outputs": [
    {
     "name": "stdout",
     "output_type": "stream",
     "text": [
      "reforço aplicado com sucesso\n"
     ]
    }
   ],
   "source": [
    "reinforcements = [[False, True], [True, True]]\n",
    "result = deep_evolutionary_reinforcement_learning.reinforcement(output_predictions=reinforcements)\n",
    "if result: print('reforço aplicado com sucesso')\n",
    "else: print('erro ao aplicar o reforço')"
   ]
  },
  {
   "cell_type": "markdown",
   "metadata": {},
   "source": [
    "<h4>Resultado Preditivo Final</h4>"
   ]
  },
  {
   "cell_type": "code",
   "execution_count": 106,
   "metadata": {},
   "outputs": [
    {
     "name": "stdout",
     "output_type": "stream",
     "text": [
      "[[0, 3], [0, 4]]\n"
     ]
    }
   ],
   "source": [
    "result = deep_evolutionary_reinforcement_learning.predict(predictions=2)\n",
    "print(result)"
   ]
  },
  {
   "cell_type": "markdown",
   "metadata": {},
   "source": [
    "<h4>Geração dos Códigos para os Games de Exemplo</h4>"
   ]
  },
  {
   "cell_type": "code",
   "execution_count": 108,
   "metadata": {},
   "outputs": [
    {
     "name": "stdout",
     "output_type": "stream",
     "text": [
      "códigos gerados com sucesso\n"
     ]
    }
   ],
   "source": [
    "result1 = deep_evolutionary_reinforcement_learning.generate_example('exemplo_deep_evolutionary_reinforcement_learning01.py', multiplayer=False)\n",
    "result2 = deep_evolutionary_reinforcement_learning.generate_example('exemplo_deep_evolutionary_reinforcement_learning02.py', multiplayer=True)\n",
    "if result1 and result2: print('códigos gerados com sucesso')\n",
    "else: print('erro ao gerar os códigos')"
   ]
  }
 ],
 "metadata": {
  "kernelspec": {
   "display_name": "Python 3.10.4 64-bit",
   "language": "python",
   "name": "python3"
  },
  "language_info": {
   "codemirror_mode": {
    "name": "ipython",
    "version": 3
   },
   "file_extension": ".py",
   "mimetype": "text/x-python",
   "name": "python",
   "nbconvert_exporter": "python",
   "pygments_lexer": "ipython3",
   "version": "3.10.4"
  },
  "orig_nbformat": 4,
  "vscode": {
   "interpreter": {
    "hash": "916dbcbb3f70747c44a77c7bcd40155683ae19c65e1c03b4aa3499c5328201f1"
   }
  }
 },
 "nbformat": 4,
 "nbformat_minor": 2
}
