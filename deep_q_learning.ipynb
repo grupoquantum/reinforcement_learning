{
 "cells": [
  {
   "cell_type": "markdown",
   "metadata": {},
   "source": [
    "<h3>Deep Q-Learning</h3>\n",
    "<p align=\"justify\">O Aprendizado Q Profundo aplica um algoritmo de redes neurais artificiais profundas na análise e processamento da tabela Q de pontuação qualitativa, o que possibilita o reconhecimento de padrões não lineares em dados não estruturados.</p>"
   ]
  },
  {
   "cell_type": "markdown",
   "metadata": {},
   "source": [
    "<h4>Importação das Classes, Instanciação dos Objetos e Treinamento do Modelo</h4>"
   ]
  },
  {
   "cell_type": "code",
   "execution_count": 1,
   "metadata": {},
   "outputs": [
    {
     "name": "stdout",
     "output_type": "stream",
     "text": [
      "treinamento concluído com sucesso\n"
     ]
    }
   ],
   "source": [
    "from Neuraline.ArtificialIntelligence.MachineLearning.ReinforcementLearning.deep_q_learning import DeepQLearning\n",
    "from Neuraline.Utilities.chart import Chart\n",
    "deep_q_learning, chart = DeepQLearning(), Chart()\n",
    "# evite arquivos png, ico ou demais formatos que poderão conter transparência\n",
    "result1 = deep_q_learning.addStateAction(state='images/training/game01.jpg', action=0)\n",
    "result2 = deep_q_learning.addStateAction(state='images/training/game02.jpg', action=1)\n",
    "result3 = deep_q_learning.addStateAction(state='images/training/game03.jpg', action=2)\n",
    "# se todas as cenas forem adicionadas com sucesso e retornarem True então exibirá uma mensagem de sucesso\n",
    "# se uma ou mais cenas retornarem False então exibirá uma mensagem de erro\n",
    "if result1 and result2 and result3: print('treinamento concluído com sucesso')\n",
    "else: print('erro durante o treinamento')"
   ]
  },
  {
   "cell_type": "markdown",
   "metadata": {},
   "source": [
    "<h4>Função de Interpretação do Comando</h4>"
   ]
  },
  {
   "cell_type": "code",
   "execution_count": 2,
   "metadata": {},
   "outputs": [],
   "source": [
    "# a função retornará uma descrição apropriada para o comando recebido\n",
    "def getAction(command=0): return {0: 'permanecer parado', 1: 'mover para cima', 2: 'mover para baixo'}[command]"
   ]
  },
  {
   "cell_type": "markdown",
   "metadata": {},
   "source": [
    "<h4>AÇÕES RECOMENDADAS PARA O JOGADOR DA DIREITA (ROBÔ)</h4>"
   ]
  },
  {
   "cell_type": "markdown",
   "metadata": {},
   "source": [
    "<h4>Primeiro Estado de Teste</h4>"
   ]
  },
  {
   "cell_type": "code",
   "execution_count": 3,
   "metadata": {},
   "outputs": [
    {
     "data": {
      "image/png": "[encoded data removed]",
      "text/plain": [
       "<Figure size 576x288 with 2 Axes>"
      ]
     },
     "metadata": {
      "needs_background": "light"
     },
     "output_type": "display_data"
    },
    {
     "name": "stdout",
     "output_type": "stream",
     "text": [
      "ação recomendada: permanecer parado\n"
     ]
    }
   ],
   "source": [
    "url_state = 'images/test/game01.jpg' # cena de teste para o estado atual\n",
    "chart.plotIMAGE(url_state) # plotagem para exibir a cena do estado atual\n",
    "result = deep_q_learning.predict(state=url_state) # retorno do comando para a ação recomendada\n",
    "print(f'ação recomendada: {getAction(command=result)}') # exibição da ação a ser executada"
   ]
  },
  {
   "cell_type": "markdown",
   "metadata": {},
   "source": [
    "<h4>Segundo Estado de Teste</h4>"
   ]
  },
  {
   "cell_type": "code",
   "execution_count": 4,
   "metadata": {},
   "outputs": [
    {
     "data": {
      "image/png": "[encoded data removed]",
      "text/plain": [
       "<Figure size 576x288 with 2 Axes>"
      ]
     },
     "metadata": {
      "needs_background": "light"
     },
     "output_type": "display_data"
    },
    {
     "name": "stdout",
     "output_type": "stream",
     "text": [
      "ação recomendada: mover para cima\n"
     ]
    }
   ],
   "source": [
    "url_state = 'images/test/game02.jpg' # cena de teste para o estado atual\n",
    "chart.plotIMAGE(url_state) # plotagem para exibir a cena do estado atual\n",
    "result = deep_q_learning.predict(state=url_state) # retorno do comando para a ação recomendada\n",
    "print(f'ação recomendada: {getAction(command=result)}') # exibição da ação a ser executada"
   ]
  },
  {
   "cell_type": "markdown",
   "metadata": {},
   "source": [
    "<h4>Terceiro Estado de Teste</h4>"
   ]
  },
  {
   "cell_type": "code",
   "execution_count": 5,
   "metadata": {},
   "outputs": [
    {
     "data": {
      "image/png": "[encoded data removed]",
      "text/plain": [
       "<Figure size 576x288 with 2 Axes>"
      ]
     },
     "metadata": {
      "needs_background": "light"
     },
     "output_type": "display_data"
    },
    {
     "name": "stdout",
     "output_type": "stream",
     "text": [
      "ação recomendada: mover para baixo\n"
     ]
    }
   ],
   "source": [
    "url_state = 'images/test/game03.jpg' # cena de teste para o estado atual\n",
    "chart.plotIMAGE(url_state) # plotagem para exibir a cena do estado atual\n",
    "result = deep_q_learning.predict(state=url_state) # retorno do comando para a ação recomendada\n",
    "print(f'ação recomendada: {getAction(command=result)}') # exibição da ação a ser executada"
   ]
  },
  {
   "cell_type": "markdown",
   "metadata": {},
   "source": [
    "<h4>Punição Para Resultados Incorretos</h4>"
   ]
  },
  {
   "cell_type": "code",
   "execution_count": 6,
   "metadata": {},
   "outputs": [
    {
     "name": "stdout",
     "output_type": "stream",
     "text": [
      "punição aplicada com sucesso\n"
     ]
    }
   ],
   "source": [
    "# mensagem de sucesso se o retorno for True ou de fracasso se o retorno for False\n",
    "if deep_q_learning.punishment(): print('punição aplicada com sucesso')\n",
    "else: print('erro ao aplicar a punição')"
   ]
  },
  {
   "cell_type": "markdown",
   "metadata": {},
   "source": [
    "<h4>Geração dos Códigos para os Games de Exemplo</h4>"
   ]
  },
  {
   "cell_type": "code",
   "execution_count": 7,
   "metadata": {},
   "outputs": [
    {
     "name": "stdout",
     "output_type": "stream",
     "text": [
      "códigos gerados com sucesso\n"
     ]
    }
   ],
   "source": [
    "# geração do código de exemplo em modo single player\n",
    "result1 = deep_q_learning.generate_example('exemplo_deep_q_learning01.py', multiplayer=False)\n",
    "# geração do código de exemplo em modo multiplayer\n",
    "result2 = deep_q_learning.generate_example('exemplo_deep_q_learning02.py', multiplayer=True)\n",
    "# se os dois exemplos retornarem True então exibirá uma mensagem de sucesso\n",
    "# se um ou mais exemplos retornarem False então exibirá uma mensagem de erro\n",
    "if result1 and result2: print('códigos gerados com sucesso')\n",
    "else: print('erro ao gerar os códigos')"
   ]
  }
 ],
 "metadata": {
  "kernelspec": {
   "display_name": "Python 3.10.4 64-bit",
   "language": "python",
   "name": "python3"
  },
  "language_info": {
   "codemirror_mode": {
    "name": "ipython",
    "version": 3
   },
   "file_extension": ".py",
   "mimetype": "text/x-python",
   "name": "python",
   "nbconvert_exporter": "python",
   "pygments_lexer": "ipython3",
   "version": "3.10.4"
  },
  "orig_nbformat": 4,
  "vscode": {
   "interpreter": {
    "hash": "916dbcbb3f70747c44a77c7bcd40155683ae19c65e1c03b4aa3499c5328201f1"
   }
  }
 },
 "nbformat": 4,
 "nbformat_minor": 2
}
