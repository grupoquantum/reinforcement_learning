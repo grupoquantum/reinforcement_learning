{
 "cells": [
  {
   "cell_type": "markdown",
   "metadata": {},
   "source": [
    "<h3>Double Q-Learning</h3>\n",
    "<p align=\"justify\">O Double Q-Learning usa um cálculo estimativo a mais com relação ao Q-Learning para diminuir o viés nos dados e fornecer resultados que se adaptem melhor para casos em que poderão existir estados estocásticos/aleatórios. Ele usa como base a estrutura principal do Q-Learning, mas diferente do  Q-Learning que escolhe o melhor caminho apenas levando em consideração o valor de pontuação máxima o  Double Q-Learning usa também um estimador extra que irá avaliar as alternativas para além do valor máximo usando duas estimativas e não apenas uma na tomada de decisão.</p>"
   ]
  },
  {
   "cell_type": "markdown",
   "metadata": {},
   "source": [
    "<h4>Double Q-Learning (adicionando todas as ações de uma única vez)</h4>"
   ]
  },
  {
   "cell_type": "code",
   "execution_count": 11,
   "metadata": {},
   "outputs": [
    {
     "name": "stdout",
     "output_type": "stream",
     "text": [
      "tabela de pontuações salva com sucesso\n",
      "[2, 3, 1]\n"
     ]
    }
   ],
   "source": [
    "from Neuraline.ArtificialIntelligence.MachineLearning.ReinforcementLearning.double_q_learning import DoubleQLearning\n",
    "double_q_learning = DoubleQLearning()\n",
    "\n",
    "double_q_learning.addActions(actions=[1, 2, 3])\n",
    "double_q_learning.addStateQuality(action=1, quality=1)\n",
    "double_q_learning.addStateQuality(action=1, quality=2)\n",
    "double_q_learning.addStateQuality(action=1, quality=5)\n",
    "double_q_learning.addStateQuality(action=2, quality=5)\n",
    "double_q_learning.addStateQuality(action=2, quality=1)\n",
    "double_q_learning.addStateQuality(action=2, quality=2)\n",
    "double_q_learning.addStateQuality(action=3, quality=2)\n",
    "double_q_learning.addStateQuality(action=3, quality=5)\n",
    "double_q_learning.addStateQuality(action=3, quality=1)\n",
    "if double_q_learning.saveQTable(url_path='qtable_double_q_learning.txt'): print('tabela de pontuações salva com sucesso')\n",
    "else: print('erro ao salvar a tabela de pontuações')\n",
    "result = double_q_learning.predict()\n",
    "print(result)"
   ]
  },
  {
   "cell_type": "markdown",
   "metadata": {},
   "source": [
    "<h4>Double Q-Learning (adicionando uma ação de cada vez)</h4>"
   ]
  },
  {
   "cell_type": "code",
   "execution_count": 12,
   "metadata": {},
   "outputs": [
    {
     "name": "stdout",
     "output_type": "stream",
     "text": [
      "tabela de pontuações salva com sucesso\n",
      "[2, 3, 1]\n"
     ]
    }
   ],
   "source": [
    "from Neuraline.ArtificialIntelligence.MachineLearning.ReinforcementLearning.double_q_learning import DoubleQLearning\n",
    "double_q_learning = DoubleQLearning()\n",
    "\n",
    "double_q_learning.addActions(actions=[1])\n",
    "double_q_learning.addActions(actions=[2])\n",
    "double_q_learning.addActions(actions=[3])\n",
    "double_q_learning.addStateQuality(action=1, quality=1)\n",
    "double_q_learning.addStateQuality(action=1, quality=2)\n",
    "double_q_learning.addStateQuality(action=1, quality=5)\n",
    "double_q_learning.addStateQuality(action=2, quality=5)\n",
    "double_q_learning.addStateQuality(action=2, quality=1)\n",
    "double_q_learning.addStateQuality(action=2, quality=2)\n",
    "double_q_learning.addStateQuality(action=3, quality=2)\n",
    "double_q_learning.addStateQuality(action=3, quality=5)\n",
    "double_q_learning.addStateQuality(action=3, quality=1)\n",
    "if double_q_learning.saveQTable(url_path='qtable_double_q_learning.txt'): print('tabela de pontuações salva com sucesso')\n",
    "else: print('erro ao salvar a tabela de pontuações')\n",
    "result = double_q_learning.predict()\n",
    "print(result)"
   ]
  },
  {
   "cell_type": "markdown",
   "metadata": {},
   "source": [
    "<h4>Double Q-Learning (adicionando todas as ações e estados de uma única vez)</h4>"
   ]
  },
  {
   "cell_type": "code",
   "execution_count": 13,
   "metadata": {},
   "outputs": [
    {
     "name": "stdout",
     "output_type": "stream",
     "text": [
      "tabela de pontuações salva com sucesso\n",
      "[2, 3, 1]\n"
     ]
    }
   ],
   "source": [
    "from Neuraline.ArtificialIntelligence.MachineLearning.ReinforcementLearning.double_q_learning import DoubleQLearning\n",
    "double_q_learning = DoubleQLearning()\n",
    "\n",
    "double_q_learning.fit(actions=[1, 2, 3], states=[[1, 2, 5], [5, 1, 2], [2, 5, 1]])\n",
    "if double_q_learning.saveQTable(url_path='qtable_double_q_learning.txt'): print('tabela de pontuações salva com sucesso')\n",
    "else: print('erro ao salvar a tabela de pontuações')\n",
    "result = double_q_learning.predict()\n",
    "print(result)"
   ]
  },
  {
   "cell_type": "markdown",
   "metadata": {},
   "source": [
    "<h4>Exemplos com Q-Learning</h4>"
   ]
  },
  {
   "cell_type": "code",
   "execution_count": 14,
   "metadata": {},
   "outputs": [
    {
     "name": "stdout",
     "output_type": "stream",
     "text": [
      "exemplo de single player construído com sucesso para o q-learning\n",
      "exemplo de multiplayer construído com sucesso para o q-learning\n"
     ]
    }
   ],
   "source": [
    "from Neuraline.ArtificialIntelligence.MachineLearning.ReinforcementLearning.q_learning import QLearning\n",
    "q_learning = QLearning()\n",
    "\n",
    "if q_learning.generate_example('exemplo_q_learning01.py', multiplayer=False): print('exemplo de single player construído com sucesso para o q-learning')\n",
    "else: print('erro ao gerar o exemplo de single player para o q-learning')\n",
    "\n",
    "if q_learning.generate_example('exemplo_q_learning02.py', multiplayer=True): print('exemplo de multiplayer construído com sucesso para o q-learning')\n",
    "else: print('erro ao gerar o exemplo de multiplayer para o q-learning')"
   ]
  },
  {
   "cell_type": "markdown",
   "metadata": {},
   "source": [
    "<h4>Exemplos com SARSA</h4>"
   ]
  },
  {
   "cell_type": "code",
   "execution_count": 15,
   "metadata": {},
   "outputs": [
    {
     "name": "stdout",
     "output_type": "stream",
     "text": [
      "exemplo de single player construído com sucesso para o sarsa\n",
      "exemplo de multiplayer construído com sucesso para o sarsa\n"
     ]
    }
   ],
   "source": [
    "from Neuraline.ArtificialIntelligence.MachineLearning.ReinforcementLearning.sarsa import SARSA\n",
    "sarsa = SARSA()\n",
    "\n",
    "if sarsa.generate_example('exemplo_sarsa01.py', multiplayer=False): print('exemplo de single player construído com sucesso para o sarsa')\n",
    "else: print('erro ao gerar o exemplo de single player para o sarsa')\n",
    "\n",
    "if sarsa.generate_example('exemplo_sarsa02.py', multiplayer=True): print('exemplo de multiplayer construído com sucesso para o sarsa')\n",
    "else: print('erro ao gerar o exemplo de multiplayer para o sarsa')"
   ]
  },
  {
   "cell_type": "markdown",
   "metadata": {},
   "source": [
    "<h4>Exemplos com Double Q-Learning</h4>"
   ]
  },
  {
   "cell_type": "code",
   "execution_count": 16,
   "metadata": {},
   "outputs": [
    {
     "name": "stdout",
     "output_type": "stream",
     "text": [
      "exemplo de single player construído com sucesso para o double q-learning\n",
      "exemplo de multiplayer construído com sucesso para o double q-learning\n"
     ]
    }
   ],
   "source": [
    "from Neuraline.ArtificialIntelligence.MachineLearning.ReinforcementLearning.double_q_learning import DoubleQLearning\n",
    "double_q_learning = DoubleQLearning()\n",
    "\n",
    "if double_q_learning.generate_example('exemplo_double_q_learning01.py', multiplayer=False): print('exemplo de single player construído com sucesso para o double q-learning')\n",
    "else: print('erro ao gerar o exemplo de single player para o double q-learning')\n",
    "\n",
    "if double_q_learning.generate_example('exemplo_double_q_learning02.py', multiplayer=True): print('exemplo de multiplayer construído com sucesso para o double q-learning')\n",
    "else: print('erro ao gerar o exemplo de multiplayer para o double q-learning')"
   ]
  }
 ],
 "metadata": {
  "kernelspec": {
   "display_name": "Python 3.10.4 64-bit",
   "language": "python",
   "name": "python3"
  },
  "language_info": {
   "codemirror_mode": {
    "name": "ipython",
    "version": 3
   },
   "file_extension": ".py",
   "mimetype": "text/x-python",
   "name": "python",
   "nbconvert_exporter": "python",
   "pygments_lexer": "ipython3",
   "version": "3.10.4"
  },
  "orig_nbformat": 4,
  "vscode": {
   "interpreter": {
    "hash": "916dbcbb3f70747c44a77c7bcd40155683ae19c65e1c03b4aa3499c5328201f1"
   }
  }
 },
 "nbformat": 4,
 "nbformat_minor": 2
}
