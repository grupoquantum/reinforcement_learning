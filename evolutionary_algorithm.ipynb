{
 "cells": [
  {
   "cell_type": "markdown",
   "metadata": {},
   "source": [
    "<h3>Evolutionary Algorithm/Algoritmo Evolutivo</h3>\n",
    "<p align=\"justify\">Os Algoritmos Evolutivos usam a base principal da Teoria da Evolução dos algoritmos genéticos com o sistema de punição e recompensas do Aprendizado por Reforço e priorizam a evolução excluindo os cálculos genéticos para obterem respostas mais rápidas</p>"
   ]
  },
  {
   "cell_type": "markdown",
   "metadata": {},
   "source": [
    "<h4>Exemplo de Construção do Código</h4>"
   ]
  },
  {
   "cell_type": "code",
   "execution_count": 2,
   "metadata": {},
   "outputs": [
    {
     "name": "stdout",
     "output_type": "stream",
     "text": [
      "[[0, 1, 1], [1, 1, 1]]\n"
     ]
    }
   ],
   "source": [
    "from Neuraline.ArtificialIntelligence.MachineLearning.ReinforcementLearning.evolutionary_algorithm import EvolutionaryAlgorithm\n",
    "evolutionary_algorithm = EvolutionaryAlgorithm()\n",
    "inputs=[[0, 0, 0], [0, 0, 1], [0, 1, 1], [1, 0, 0], [1, 1, 0], [1, 0, 1], [0, 1, 0], [1, 1, 1]]\n",
    "result = evolutionary_algorithm.fit(inputs=inputs, n_populations=2, n_individuals=5)\n",
    "result = evolutionary_algorithm.predict(individuals=2)\n",
    "print(result)"
   ]
  },
  {
   "cell_type": "markdown",
   "metadata": {},
   "source": [
    "<h4>Geração dos Códigos para os Games de Exemplo</h4>"
   ]
  },
  {
   "cell_type": "code",
   "execution_count": 3,
   "metadata": {},
   "outputs": [
    {
     "name": "stdout",
     "output_type": "stream",
     "text": [
      "códigos gerados com sucesso\n"
     ]
    }
   ],
   "source": [
    "result1 = evolutionary_algorithm.generate_example('exemplo_evolutionary_algorithm01.py', multiplayer=False)\n",
    "result2 = evolutionary_algorithm.generate_example('exemplo_evolutionary_algorithm02.py', multiplayer=True)\n",
    "if result1 and result2: print('códigos gerados com sucesso')\n",
    "else: print('erro ao gerar os códigos')"
   ]
  }
 ],
 "metadata": {
  "kernelspec": {
   "display_name": "Python 3.10.4 64-bit",
   "language": "python",
   "name": "python3"
  },
  "language_info": {
   "codemirror_mode": {
    "name": "ipython",
    "version": 3
   },
   "file_extension": ".py",
   "mimetype": "text/x-python",
   "name": "python",
   "nbconvert_exporter": "python",
   "pygments_lexer": "ipython3",
   "version": "3.10.4"
  },
  "orig_nbformat": 4,
  "vscode": {
   "interpreter": {
    "hash": "916dbcbb3f70747c44a77c7bcd40155683ae19c65e1c03b4aa3499c5328201f1"
   }
  }
 },
 "nbformat": 4,
 "nbformat_minor": 2
}
