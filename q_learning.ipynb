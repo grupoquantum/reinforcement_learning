{
 "cells": [
  {
   "cell_type": "markdown",
   "metadata": {},
   "source": [
    "<h3>Q-Learning/Aprendizagem Q</h3>"
   ]
  },
  {
   "cell_type": "markdown",
   "metadata": {},
   "source": [
    "<h4>Primeira Alternativa de Construção (forma completa)</h4>"
   ]
  },
  {
   "cell_type": "code",
   "execution_count": 10,
   "metadata": {},
   "outputs": [
    {
     "name": "stdout",
     "output_type": "stream",
     "text": [
      "['B', 'F', 'D']\n"
     ]
    }
   ],
   "source": [
    "from Neuraline.ArtificialIntelligence.MachineLearning.ReinforcementLearning.q_learning import QLearning\n",
    "q_learning = QLearning()\n",
    "\n",
    "inputs = ['A', 'B', 'C', 'D', 'E', 'F', 'G', 'H']\n",
    "q_learning.addActions(actions=inputs)\n",
    "q_learning.addStateQuality(action='A', quality=1)\n",
    "q_learning.addStateQuality(action='A', quality=2)\n",
    "q_learning.addStateQuality(action='A', quality=0)\n",
    "q_learning.addStateQuality(action='B', quality=5)\n",
    "q_learning.addStateQuality(action='B', quality=1)\n",
    "q_learning.addStateQuality(action='B', quality=2)\n",
    "q_learning.addStateQuality(action='C', quality=2)\n",
    "q_learning.addStateQuality(action='C', quality=3)\n",
    "q_learning.addStateQuality(action='C', quality=5)\n",
    "q_learning.addStateQuality(action='D', quality=4)\n",
    "q_learning.addStateQuality(action='D', quality=1)\n",
    "q_learning.addStateQuality(action='D', quality=7)\n",
    "q_learning.addStateQuality(action='E', quality=2)\n",
    "q_learning.addStateQuality(action='E', quality=1)\n",
    "q_learning.addStateQuality(action='E', quality=5)\n",
    "q_learning.addStateQuality(action='F', quality=2)\n",
    "q_learning.addStateQuality(action='F', quality=4)\n",
    "q_learning.addStateQuality(action='F', quality=3)\n",
    "q_learning.addStateQuality(action='G', quality=3)\n",
    "q_learning.addStateQuality(action='G', quality=3)\n",
    "q_learning.addStateQuality(action='G', quality=4)\n",
    "q_learning.addStateQuality(action='H', quality=2)\n",
    "q_learning.addStateQuality(action='H', quality=1)\n",
    "q_learning.addStateQuality(action='H', quality=5)\n",
    "result = q_learning.predict()\n",
    "print(result)"
   ]
  },
  {
   "cell_type": "markdown",
   "metadata": {},
   "source": [
    "<h4>Segunda Alternativa de Construção (forma resumida)</h4>"
   ]
  },
  {
   "cell_type": "code",
   "execution_count": 11,
   "metadata": {},
   "outputs": [
    {
     "name": "stdout",
     "output_type": "stream",
     "text": [
      "['B', 'F', 'D']\n"
     ]
    }
   ],
   "source": [
    "from Neuraline.ArtificialIntelligence.MachineLearning.ReinforcementLearning.q_learning import QLearning\n",
    "q_learning = QLearning()\n",
    "\n",
    "inputs = ['A', 'B', 'C', 'D', 'E', 'F', 'G', 'H']\n",
    "states = [[1, 2, 0], [5, 1, 2], [2, 3, 5], [4, 1, 7], [2, 1, 5], [2, 4, 3], [3, 3, 4], [2, 1, 5]]\n",
    "q_learning.fit(actions=inputs, states=states)\n",
    "result = q_learning.predict()\n",
    "print(result)"
   ]
  },
  {
   "cell_type": "markdown",
   "metadata": {},
   "source": [
    "<h4>Salvamento da Tabela Qualitativa</h4>"
   ]
  },
  {
   "cell_type": "code",
   "execution_count": 12,
   "metadata": {},
   "outputs": [
    {
     "name": "stdout",
     "output_type": "stream",
     "text": [
      "tabela qualitativa salva com sucesso\n"
     ]
    }
   ],
   "source": [
    "if q_learning.saveQTable(url_path='qtable.txt'): print('tabela qualitativa salva com sucesso')"
   ]
  },
  {
   "cell_type": "markdown",
   "metadata": {},
   "source": [
    "<h4>Criação do Código/Game de Exemplo</h4>"
   ]
  },
  {
   "cell_type": "code",
   "execution_count": 13,
   "metadata": {},
   "outputs": [
    {
     "name": "stdout",
     "output_type": "stream",
     "text": [
      "exemplo construído com sucesso\n"
     ]
    }
   ],
   "source": [
    "from Neuraline.ArtificialIntelligence.MachineLearning.ReinforcementLearning.q_learning import QLearning\n",
    "q_learning = QLearning()\n",
    "if q_learning.generate_example('exemplo_q_learning01.py'): print('exemplo construído com sucesso')"
   ]
  }
 ],
 "metadata": {
  "kernelspec": {
   "display_name": "Python 3.10.4 64-bit",
   "language": "python",
   "name": "python3"
  },
  "language_info": {
   "codemirror_mode": {
    "name": "ipython",
    "version": 3
   },
   "file_extension": ".py",
   "mimetype": "text/x-python",
   "name": "python",
   "nbconvert_exporter": "python",
   "pygments_lexer": "ipython3",
   "version": "3.10.4"
  },
  "orig_nbformat": 4,
  "vscode": {
   "interpreter": {
    "hash": "916dbcbb3f70747c44a77c7bcd40155683ae19c65e1c03b4aa3499c5328201f1"
   }
  }
 },
 "nbformat": 4,
 "nbformat_minor": 2
}
