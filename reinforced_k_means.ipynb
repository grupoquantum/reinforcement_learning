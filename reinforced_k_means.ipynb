{
 "cells": [
  {
   "cell_type": "markdown",
   "metadata": {},
   "source": [
    "<h3>Reinforcement Learning (Aprendizado por Reforço)</h3>\n",
    "<p align=\"justify\">O Aprendizado por Reforço trabalha com um sistema de punições e recompensas para aprimorar modelos com o objetivo de conseguir um nível de precisão que não seria possível com o Aprendizado Autônomo ou Supervisionado.  O algoritmo aplicará uma punição toda vez que o resultado estiver se distanciando do ideal e uma recompensa para quando ele estiver emitindo resultados corretos. Ele aprende com a experiência, logo quanto maior for o número de execuções, maior será o seu nível de aprendizado no reconhecimento de padrões.</p>\n",
    "<h4>Reinforced K-Means/K-Means Reforçado</h4>"
   ]
  },
  {
   "cell_type": "markdown",
   "metadata": {},
   "source": [
    "<h5>Importação do Módulo, Declaração de Variáveis e Salvamento do Modelo Que Será Reforçado</h5>"
   ]
  },
  {
   "cell_type": "code",
   "execution_count": 70,
   "metadata": {},
   "outputs": [],
   "source": [
    "from Neuraline.ArtificialIntelligence.MachineLearning.ReinforcementLearning.reinforced_k_means import ReinforcedKMeans\n",
    "reinforced_k_means = ReinforcedKMeans(url_path='modelo_reforcado')\n",
    "inputs = [[1, 2], [10, 20], [3, 4], [30, 40]]\n",
    "result = reinforced_k_means.saveModel()"
   ]
  },
  {
   "cell_type": "markdown",
   "metadata": {},
   "source": [
    "<h5>Carregamento do Modelo para Reforço</h5>"
   ]
  },
  {
   "cell_type": "code",
   "execution_count": 64,
   "metadata": {},
   "outputs": [],
   "source": [
    "result = reinforced_k_means.loadModel()"
   ]
  },
  {
   "cell_type": "markdown",
   "metadata": {},
   "source": [
    "<h5>Configuração e Execução do Modelo</h5>"
   ]
  },
  {
   "cell_type": "code",
   "execution_count": 71,
   "metadata": {},
   "outputs": [
    {
     "name": "stdout",
     "output_type": "stream",
     "text": [
      "[[1, 2], [3, 4]]\n",
      "[[10, 20], [30, 40]]\n"
     ]
    }
   ],
   "source": [
    "result = reinforced_k_means.fit(inputs=inputs, centroids=[1, 2])\n",
    "clusters = reinforced_k_means.predict(k=2)\n",
    "for group in clusters: print(group)"
   ]
  },
  {
   "cell_type": "markdown",
   "metadata": {},
   "source": [
    "<h5>Punição para Resultados Inadequados</h5>"
   ]
  },
  {
   "cell_type": "code",
   "execution_count": 59,
   "metadata": {},
   "outputs": [
    {
     "name": "stdout",
     "output_type": "stream",
     "text": [
      "punição aplicada ao modelo\n"
     ]
    }
   ],
   "source": [
    "if reinforced_k_means.punishment(): print('punição aplicada ao modelo')"
   ]
  },
  {
   "cell_type": "markdown",
   "metadata": {},
   "source": [
    "<h5>Recompensa para Resultados Corretos</h5>"
   ]
  },
  {
   "cell_type": "code",
   "execution_count": 72,
   "metadata": {},
   "outputs": [
    {
     "name": "stdout",
     "output_type": "stream",
     "text": [
      "modelo recompensado\n"
     ]
    }
   ],
   "source": [
    "if reinforced_k_means.reward(): print('modelo recompensado')"
   ]
  },
  {
   "cell_type": "markdown",
   "metadata": {},
   "source": [
    "<h5>Aplicação do Modelo Reforçado</h5>"
   ]
  },
  {
   "cell_type": "code",
   "execution_count": 76,
   "metadata": {},
   "outputs": [
    {
     "name": "stdout",
     "output_type": "stream",
     "text": [
      "modelo carregado com sucesso\n",
      "[[1, 2], [3, 4]]\n",
      "[[10, 20], [30, 40]]\n"
     ]
    }
   ],
   "source": [
    "from Neuraline.ArtificialIntelligence.MachineLearning.ReinforcementLearning.reinforced_k_means import ReinforcedKMeans\n",
    "reinforced_k_means = ReinforcedKMeans(url_path='modelo_reforcado')\n",
    "if reinforced_k_means.loadModel(): print('modelo carregado com sucesso')\n",
    "clusters = reinforced_k_means.predict(k=2)\n",
    "for group in clusters: print(group)"
   ]
  }
 ],
 "metadata": {
  "kernelspec": {
   "display_name": "Python 3.10.4 64-bit",
   "language": "python",
   "name": "python3"
  },
  "language_info": {
   "codemirror_mode": {
    "name": "ipython",
    "version": 3
   },
   "file_extension": ".py",
   "mimetype": "text/x-python",
   "name": "python",
   "nbconvert_exporter": "python",
   "pygments_lexer": "ipython3",
   "version": "3.10.4"
  },
  "orig_nbformat": 4,
  "vscode": {
   "interpreter": {
    "hash": "916dbcbb3f70747c44a77c7bcd40155683ae19c65e1c03b4aa3499c5328201f1"
   }
  }
 },
 "nbformat": 4,
 "nbformat_minor": 2
}
